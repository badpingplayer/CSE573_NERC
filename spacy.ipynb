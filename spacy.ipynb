{
  "nbformat": 4,
  "nbformat_minor": 0,
  "metadata": {
    "colab": {
      "name": "spacy.ipynb",
      "provenance": []
    },
    "kernelspec": {
      "name": "python3",
      "display_name": "Python 3"
    },
    "language_info": {
      "name": "python"
    }
  },
  "cells": [
    {
      "cell_type": "code",
      "execution_count": 1,
      "metadata": {
        "colab": {
          "base_uri": "https://localhost:8080/"
        },
        "id": "MMVmgl6K6nAO",
        "outputId": "370ec5a8-7da2-493f-aa87-15f8a851b520"
      },
      "outputs": [
        {
          "output_type": "stream",
          "name": "stdout",
          "text": [
            "Apple- 0-5-ORG-Companies, agencies, institutions, etc.\n",
            "U.K- 27-30-ORG-Companies, agencies, institutions, etc.\n",
            "$1 billion- 43-53-MONEY-Monetary values, including unit\n"
          ]
        }
      ],
      "source": [
        "import spacy\n",
        "nlp=spacy.load('en_core_web_sm')\n",
        "\n",
        "def show_ents(doc):\n",
        "\n",
        "    if doc.ents:\n",
        "        for ent in doc.ents:\n",
        "            print(ent.text+'-',str(ent.start_char)+'-'+str(ent.end_char)+'-'+ent.label_+'-'+str(spacy.explain(ent.label_)))\n",
        "    else:\n",
        "        print('No entities found')\n",
        "\n",
        "\n",
        "doc1=nlp(\"Apple is looking at buying U.K startup for $1 billion\")\n",
        "show_ents(doc1)"
      ]
    }
  ]
}